{
 "cells": [
  {
   "cell_type": "markdown",
   "metadata": {},
   "source": [
    "### Table of Contents\n",
    "\n",
    "* [1. Load libraries and data](#chapter1)\n",
    "* [2. Illustrated selected data](#chapter2)\n",
    "* [3. Fit the Lee-Carter model to one population](#chapter3)\n",
    "* [4. Define the different networks considered](#chapter4)\n",
    "* [5. Prepare data for RNNs](#chapter5)\n",
    "* [6. Toy Examples Recurrent Neural Nets](#chapter6)\n",
    "* [7. Fit recurrent neural network to HMD data for female and male individually](#chapter7)\n",
    "* [8. Fit recurrent neural network to HMD data for both genders](#chapter8)"
   ]
  },
  {
   "cell_type": "markdown",
   "metadata": {},
   "source": [
    "### Paper"
   ]
  },
  {
   "cell_type": "markdown",
   "metadata": {},
   "source": [
    "Analysis made based on paper: <br>\n",
    "* Title: \"Lee and Carter go Machine Learning: Recurrent Neural Networks\"\n",
    "* Authors: Richman, Ronald and Wuthrich, Mario V.\n",
    "* Date: August 22, 2019\n",
    "* Abstract: https://ssrn.com/abstract=3441030\n",
    "\n",
    "Notebook is based on the original code in R written by Ronald Richman and Mario Wuthrich: <br>\n",
    "https://github.com/JSchelldorfer/ActuarialDataScience/tree/master/6%20-%20Lee%20and%20Carter%20go%20Machine%20Learning%20Recurrent%20Neural%20Networks"
   ]
  },
  {
   "cell_type": "markdown",
   "metadata": {},
   "source": [
    "### 1. Load libraries and data <a class=\"anchor\" id=\"chapter1\"></a>"
   ]
  },
  {
   "cell_type": "code",
   "execution_count": 1,
   "metadata": {
    "scrolled": true
   },
   "outputs": [
    {
     "name": "stderr",
     "output_type": "stream",
     "text": [
      "Loading required package: data.table\n",
      "Warning message:\n",
      "\"package 'data.table' was built under R version 3.6.3\"Loading required package: dplyr\n",
      "Warning message:\n",
      "\"package 'dplyr' was built under R version 3.6.3\"\n",
      "Attaching package: 'dplyr'\n",
      "\n",
      "The following objects are masked from 'package:data.table':\n",
      "\n",
      "    between, first, last\n",
      "\n",
      "The following objects are masked from 'package:stats':\n",
      "\n",
      "    filter, lag\n",
      "\n",
      "The following objects are masked from 'package:base':\n",
      "\n",
      "    intersect, setdiff, setequal, union\n",
      "\n",
      "Loading required package: ggplot2\n",
      "Warning message:\n",
      "\"package 'ggplot2' was built under R version 3.6.3\"Loading required package: reshape2\n",
      "Warning message:\n",
      "\"package 'reshape2' was built under R version 3.6.3\"\n",
      "Attaching package: 'reshape2'\n",
      "\n",
      "The following objects are masked from 'package:data.table':\n",
      "\n",
      "    dcast, melt\n",
      "\n",
      "Loading required package: HMDHFDplus\n",
      "Warning message:\n",
      "\"package 'HMDHFDplus' was built under R version 3.6.3\"Loading required package: gnm\n",
      "Warning message:\n",
      "\"package 'gnm' was built under R version 3.6.3\"Loading required package: stringr\n",
      "Warning message:\n",
      "\"package 'stringr' was built under R version 3.6.3\"Loading required package: ggpubr\n",
      "Warning message:\n",
      "\"package 'ggpubr' was built under R version 3.6.3\"Error: package or namespace load failed for 'ggpubr' in loadNamespace(j <- i[[1L]], c(lib.loc, .libPaths()), versionCheck = vI[[j]]):\n",
      " namespace 'broom' 0.5.2 is being loaded, but >= 0.5.6 is required\n",
      "Loading required package: forecast\n",
      "Warning message:\n",
      "\"package 'forecast' was built under R version 3.6.3\"Registered S3 method overwritten by 'xts':\n",
      "  method     from\n",
      "  as.zoo.xts zoo \n",
      "Registered S3 method overwritten by 'quantmod':\n",
      "  method            from\n",
      "  as.zoo.data.frame zoo \n"
     ]
    }
   ],
   "source": [
    "options(keras.view_metrics = FALSE)\n",
    "require(data.table)\n",
    "require(dplyr)\n",
    "require(ggplot2)\n",
    "require(reshape2)\n",
    "require(HMDHFDplus)\n",
    "require(gnm)\n",
    "require(stringr)\n",
    "require(ggpubr)\n",
    "require(forecast)\n",
    "\n",
    "set.seed(1234)\n",
    "\n",
    "##################################################################\n",
    "#### Load data\n",
    "##################################################################\n",
    "\n",
    "# select parameters\n",
    "path.data <- \"CHE_mort.csv\"           # path and name of data file\n",
    "region <- \"CHE\"                    # country to be loaded (code is for one selected country)\n",
    "\n",
    "# load corresponding data\n",
    "\n",
    "all_mort <- fread(path.data)                      # load data from csv file\n",
    "all_mort$Gender <- as.factor(all_mort$Gender)\n",
    "\n",
    "# The data has been downloaded from the Human Mortality Database (HMD).\n",
    "# We have applied some pre-processing to this data so that Lee-Carter can be applied.\n",
    "# Values that differ from the HMD have received a flag in the csv file\n",
    "\n",
    "#######################################################################################################################"
   ]
  },
  {
   "cell_type": "markdown",
   "metadata": {},
   "source": [
    "### 2. Illustrated selected data <a class=\"anchor\" id=\"chapter2\"></a>"
   ]
  },
  {
   "cell_type": "code",
   "execution_count": 2,
   "metadata": {},
   "outputs": [
    {
     "name": "stdout",
     "output_type": "stream",
     "text": [
      "Classes 'data.table' and 'data.frame':\t13400 obs. of  7 variables:\n",
      " $ Gender      : Factor w/ 2 levels \"Female\",\"Male\": 1 1 1 1 1 1 1 1 1 1 ...\n",
      " $ Year        : int  1950 1950 1950 1950 1950 1950 1950 1950 1950 1950 ...\n",
      " $ Age         : int  0 1 2 3 4 5 6 7 8 9 ...\n",
      " $ Country     : chr  \"CHE\" \"CHE\" \"CHE\" \"CHE\" ...\n",
      " $ imputed_flag: logi  FALSE FALSE FALSE FALSE FALSE FALSE ...\n",
      " $ mx          : num  0.02729 0.00305 0.00167 0.00123 0.00101 ...\n",
      " $ logmx       : num  -3.6 -5.79 -6.39 -6.7 -6.9 ...\n",
      " - attr(*, \".internal.selfref\")=<externalptr> \n"
     ]
    },
    {
     "data": {
      "text/html": [
       "<table>\n",
       "<thead><tr><th scope=col>Gender</th><th scope=col>Year</th><th scope=col>Age</th><th scope=col>Country</th><th scope=col>imputed_flag</th><th scope=col>mx</th><th scope=col>logmx</th></tr></thead>\n",
       "<tbody>\n",
       "\t<tr><td>Male      </td><td>2016      </td><td>94        </td><td>CHE       </td><td>FALSE     </td><td>0.281269  </td><td>-1.2684438</td></tr>\n",
       "\t<tr><td>Male      </td><td>2016      </td><td>95        </td><td>CHE       </td><td>FALSE     </td><td>0.299443  </td><td>-1.2058312</td></tr>\n",
       "\t<tr><td>Male      </td><td>2016      </td><td>96        </td><td>CHE       </td><td>FALSE     </td><td>0.332784  </td><td>-1.1002616</td></tr>\n",
       "\t<tr><td>Male      </td><td>2016      </td><td>97        </td><td>CHE       </td><td>FALSE     </td><td>0.312937  </td><td>-1.1617534</td></tr>\n",
       "\t<tr><td>Male      </td><td>2016      </td><td>98        </td><td>CHE       </td><td>FALSE     </td><td>0.392929  </td><td>-0.9341263</td></tr>\n",
       "\t<tr><td>Male      </td><td>2016      </td><td>99        </td><td>CHE       </td><td>FALSE     </td><td>0.329758  </td><td>-1.1093962</td></tr>\n",
       "</tbody>\n",
       "</table>\n"
      ],
      "text/latex": [
       "\\begin{tabular}{r|lllllll}\n",
       " Gender & Year & Age & Country & imputed\\_flag & mx & logmx\\\\\n",
       "\\hline\n",
       "\t Male       & 2016       & 94         & CHE        & FALSE      & 0.281269   & -1.2684438\\\\\n",
       "\t Male       & 2016       & 95         & CHE        & FALSE      & 0.299443   & -1.2058312\\\\\n",
       "\t Male       & 2016       & 96         & CHE        & FALSE      & 0.332784   & -1.1002616\\\\\n",
       "\t Male       & 2016       & 97         & CHE        & FALSE      & 0.312937   & -1.1617534\\\\\n",
       "\t Male       & 2016       & 98         & CHE        & FALSE      & 0.392929   & -0.9341263\\\\\n",
       "\t Male       & 2016       & 99         & CHE        & FALSE      & 0.329758   & -1.1093962\\\\\n",
       "\\end{tabular}\n"
      ],
      "text/markdown": [
       "\n",
       "| Gender | Year | Age | Country | imputed_flag | mx | logmx |\n",
       "|---|---|---|---|---|---|---|\n",
       "| Male       | 2016       | 94         | CHE        | FALSE      | 0.281269   | -1.2684438 |\n",
       "| Male       | 2016       | 95         | CHE        | FALSE      | 0.299443   | -1.2058312 |\n",
       "| Male       | 2016       | 96         | CHE        | FALSE      | 0.332784   | -1.1002616 |\n",
       "| Male       | 2016       | 97         | CHE        | FALSE      | 0.312937   | -1.1617534 |\n",
       "| Male       | 2016       | 98         | CHE        | FALSE      | 0.392929   | -0.9341263 |\n",
       "| Male       | 2016       | 99         | CHE        | FALSE      | 0.329758   | -1.1093962 |\n",
       "\n"
      ],
      "text/plain": [
       "  Gender Year Age Country imputed_flag mx       logmx     \n",
       "1 Male   2016 94  CHE     FALSE        0.281269 -1.2684438\n",
       "2 Male   2016 95  CHE     FALSE        0.299443 -1.2058312\n",
       "3 Male   2016 96  CHE     FALSE        0.332784 -1.1002616\n",
       "4 Male   2016 97  CHE     FALSE        0.312937 -1.1617534\n",
       "5 Male   2016 98  CHE     FALSE        0.392929 -0.9341263\n",
       "6 Male   2016 99  CHE     FALSE        0.329758 -1.1093962"
      ]
     },
     "metadata": {},
     "output_type": "display_data"
    }
   ],
   "source": [
    "##################################################################\n",
    "#### Data structure\n",
    "##################################################################\n",
    "\n",
    "str(all_mort)\n",
    "tail(all_mort)"
   ]
  },
  {
   "cell_type": "code",
   "execution_count": 3,
   "metadata": {
    "scrolled": false
   },
   "outputs": [
    {
     "data": {
      "image/png": "[encoded data removed]"
     },
     "metadata": {},
     "output_type": "display_data"
    }
   ],
   "source": [
    "##################################################################\n",
    "#### Heatmap of selected data\n",
    "##################################################################\n",
    "\n",
    "options(repr.plot.width=8, repr.plot.height=4)\n",
    "par(mfrow=c(1,2))\n",
    "\n",
    "for (gender in c(\"Female\", \"Male\")) {\n",
    "    m0 <- c(min(all_mort$logmx), max(all_mort$logmx))\n",
    "    # rows are calendar year t, columns are ages x\n",
    "    logmx <- t(matrix(as.matrix(all_mort[which(all_mort$Gender==gender),\"logmx\"]), nrow=100, ncol=67))\n",
    "    image(z=logmx, useRaster=TRUE,  zlim=m0, col=rev(rainbow(n=60, start=0, end=.72)), xaxt='n', yaxt='n', \n",
    "          main=list(paste(\"Swiss \",gender, \" raw log-mortality rates\", sep=\"\"), cex=1.2), cex.lab=1.2, ylab=\"age x\", \n",
    "          xlab=\"calendar year t\")\n",
    "    axis(1, at=c(0:(2016-1950))/(2016-1950), c(1950:2016))                   \n",
    "    axis(2, at=c(0:49)/50, labels=c(0:49)*2)                   \n",
    "    lines(x=rep((1999-1950+0.5)/(2016-1950), 2), y=c(0:1), lwd=2)\n",
    "}"
   ]
  },
  {
   "cell_type": "markdown",
   "metadata": {},
   "source": [
    "### 3. Fit the Lee-Carter model to one population <a class=\"anchor\" id=\"chapter3\"></a>"
   ]
  },
  {
   "cell_type": "code",
   "execution_count": 4,
   "metadata": {},
   "outputs": [
    {
     "name": "stdout",
     "output_type": "stream",
     "text": [
      "[1] \"Female in-sample and out-of-sample loss\"\n",
      "[1] 3.7573 0.6045\n",
      "[1] \"Male in-sample and out-of-sample loss\"\n",
      "[1] 8.8110 1.8152\n"
     ]
    },
    {
     "data": {
      "image/png": "[encoded data removed]"
     },
     "metadata": {},
     "output_type": "display_data"
    }
   ],
   "source": [
    "##################################################################\n",
    "#### Fit Lee Carter to the selected country and extrapolate with Random Walk with Drift\n",
    "##################################################################\n",
    "\n",
    "options(repr.plot.width=8, repr.plot.height=4)\n",
    "par(mfrow=c(1,2))\n",
    "\n",
    "for (gender in c(\"Female\", \"Male\")) {\n",
    "    ObsYear <- 1999\n",
    "    train <- all_mort[Year<=ObsYear][Gender == gender]\n",
    "    min(train$Year)\n",
    "\n",
    "    ### fit via SVD\n",
    "    train[,ax:= mean(logmx), by = (Age)]\n",
    "    train[,mx_adj:= logmx-ax]  \n",
    "    rates_mat <- as.matrix(train %>% dcast.data.table(Age~Year, value.var = \"mx_adj\", sum))[,-1]\n",
    "    svd_fit <- svd(rates_mat)\n",
    "\n",
    "    ax <- train[,unique(ax)]\n",
    "    bx <- svd_fit$u[,1]*svd_fit$d[1]\n",
    "    kt <- svd_fit$v[,1]\n",
    "\n",
    "    c1 <- mean(kt)\n",
    "    c2 <- sum(bx)\n",
    "    ax <- ax+c1*bx\n",
    "    bx <- bx/c2\n",
    "    kt <- (kt-c1)*c2\n",
    "\n",
    "    ### extrapolation and forecast\n",
    "    vali  <- all_mort[Year>ObsYear][Gender == gender]    \n",
    "    t_forecast <- vali[,unique(Year)] %>% length()\n",
    "    forecast_kt  =kt %>% forecast::rwf(t_forecast, drift = T)\n",
    "    kt_forecast = forecast_kt$mean\n",
    "\n",
    "\n",
    "    ##################################################################\n",
    "    #### Illustrate and back-test Lee-Carter prediction\n",
    "    ##################################################################\n",
    "    \n",
    "    # illustration selected drift\n",
    "    plot_data <- c(kt, kt_forecast)\n",
    "    plot(plot_data, pch=20, col=\"red\", cex=1.5, cex.lab=1.2, xaxt='n', ylab=\"values k_t\", xlab=\"calendar year t\", \n",
    "         main=list(paste(\"estimated process k_t for \",gender, sep=\"\"), cex=1.2)) \n",
    "    points(kt, col=\"blue\", pch=20, cex=1.5)\n",
    "    axis(1, at=c(1:length(plot_data)), labels=c(1:length(plot_data))+1949)                   \n",
    "    abline(v=(length(kt)+0.5), lwd=2)\n",
    "\n",
    "\n",
    "    # in-sample and out-of-sample analysis    \n",
    "    fitted = (ax+(bx)%*%t(kt)) %>% melt\n",
    "    train$pred_LC_svd = fitted$value %>% exp\n",
    "    fitted_vali = (ax+(bx)%*%t(kt_forecast)) %>% melt\n",
    "    vali$pred_LC_svd =   fitted_vali$value %>% exp\n",
    "    print(paste(gender,  'in-sample and out-of-sample loss'))\n",
    "    print(round(c((mean((train$mx-train$pred_LC_svd)^2)*10^4) , (mean((vali$mx-vali$pred_LC_svd)^2)*10^4)),4))\n",
    "}"
   ]
  },
  {
   "cell_type": "markdown",
   "metadata": {},
   "source": [
    "### 4. Define the different networks considered <a class=\"anchor\" id=\"chapter4\"></a>"
   ]
  },
  {
   "cell_type": "code",
   "execution_count": 5,
   "metadata": {},
   "outputs": [
    {
     "name": "stderr",
     "output_type": "stream",
     "text": [
      "Loading required package: keras\n",
      "Warning message:\n",
      "\"package 'keras' was built under R version 3.6.3\""
     ]
    }
   ],
   "source": [
    "##################################################################\n",
    "### Designing an LSTMs\n",
    "##################################################################\n",
    "\n",
    "require(keras)\n",
    "\n",
    "# single hidden LSTM layer\n",
    "LSTM1 <- function(T0, tau0, tau1, y0=0, optimizer){\n",
    "    Input <- layer_input(shape=c(T0,tau0), dtype='float32', name='Input') \n",
    "    Output = Input %>%  \n",
    "       layer_lstm(units=tau1, activation='tanh', recurrent_activation='tanh', name='LSTM1') %>%\n",
    "       layer_dense(units=1, activation=k_exp, name=\"Output\",\n",
    "                   weights=list(array(0,dim=c(tau1,1)), array(log(y0),dim=c(1)))) \n",
    "    model <- keras_model(inputs = list(Input), outputs = c(Output))\n",
    "    model %>% compile(loss = 'mean_squared_error', optimizer = optimizer)\n",
    "     }\n",
    "     \n",
    "\n",
    "# double hidden LSTM layers\n",
    "LSTM2 <- function(T0, tau0, tau1, tau2, y0=0, optimizer){\n",
    "    Input <- layer_input(shape=c(T0,tau0), dtype='float32', name='Input') \n",
    "    Output = Input %>%  \n",
    "       layer_lstm(units=tau1, activation='tanh', recurrent_activation='tanh', \n",
    "                  return_sequences=TRUE, name='LSTM1') %>%\n",
    "       layer_lstm(units=tau2, activation='tanh', recurrent_activation='tanh', name='LSTM2') %>%           \n",
    "       layer_dense(units=1, activation=k_exp, name=\"Output\",\n",
    "                   weights=list(array(0,dim=c(tau2,1)), array(log(y0),dim=c(1))))  \n",
    "    model <- keras_model(inputs = list(Input), outputs = c(Output))\n",
    "    model %>% compile(loss = 'mean_squared_error', optimizer = optimizer)\n",
    "     }\n",
    "\n",
    "\n",
    "# triple hidden LSTM layers\n",
    "LSTM3 <- function(T0, tau0, tau1, tau2, tau3, y0=0, optimizer){\n",
    "    Input <- layer_input(shape=c(T0,tau0), dtype='float32', name='Input') \n",
    "    Output = Input %>%  \n",
    "       layer_lstm(units=tau1, activation='tanh', recurrent_activation='tanh', \n",
    "                  return_sequences=TRUE, name='LSTM1') %>%\n",
    "       layer_lstm(units=tau2, activation='tanh', recurrent_activation='tanh', \n",
    "                  return_sequences=TRUE, name='LSTM2') %>%           \n",
    "       layer_lstm(units=tau3, activation='tanh', recurrent_activation='tanh', name='LSTM3') %>%           \n",
    "       layer_dense(units=1, activation=k_exp, name=\"Output\",\n",
    "                   weights=list(array(0,dim=c(tau3,1)), array(log(y0),dim=c(1))))  \n",
    "    model <- keras_model(inputs = list(Input), outputs = c(Output))\n",
    "    model %>% compile(loss = 'mean_squared_error', optimizer = optimizer)\n",
    "     }\n",
    "     \n",
    "\n",
    "# time-distributed layer on LSTMs\n",
    "LSTM_TD <- function(T0, tau0, tau1, y0=0, optimizer){\n",
    "    Input <- layer_input(shape=c(T0,tau0), dtype='float32', name='Input') \n",
    "    Output = Input %>%  \n",
    "       layer_lstm(units=tau1, activation='tanh', recurrent_activation='tanh', \n",
    "                  return_sequences=TRUE, name='LSTM1') %>%\n",
    "       time_distributed(layer_dense(units=1, activation=k_exp, name=\"Output\"), name='TD') \n",
    "    model <- keras_model(inputs = list(Input), outputs = c(Output))\n",
    "    model %>% compile(loss = 'mean_squared_error', optimizer = optimizer)\n",
    "     }\n",
    "     \n",
    "# single hidden GRU layer\n",
    "GRU1 <- function(T0, tau0, tau1, y0=0, optimizer){\n",
    "    Input <- layer_input(shape=c(T0,tau0), dtype='float32', name='Input') \n",
    "    Output = Input %>%  \n",
    "       layer_gru(units=tau1, activation='tanh', recurrent_activation='tanh', name='GRU1') %>%\n",
    "       layer_dense(units=1, activation=k_exp, name=\"Output\",\n",
    "                   weights=list(array(0,dim=c(tau1,1)), array(log(y0),dim=c(1)))) \n",
    "    model <- keras_model(inputs = list(Input), outputs = c(Output))\n",
    "    model %>% compile(loss = 'mean_squared_error', optimizer = optimizer)\n",
    "     }\n",
    "     \n",
    "\n",
    "# double hidden GRU layers\n",
    "GRU2 <- function(T0, tau0, tau1, tau2, y0=0, optimizer){\n",
    "    Input <- layer_input(shape=c(T0,tau0), dtype='float32', name='Input') \n",
    "    Output = Input %>%  \n",
    "       layer_gru(units=tau1, activation='tanh', recurrent_activation='tanh', \n",
    "                  return_sequences=TRUE, name='GRU1') %>%\n",
    "       layer_gru(units=tau2, activation='tanh', recurrent_activation='tanh', name='GRU2') %>%           \n",
    "       layer_dense(units=1, activation=k_exp, name=\"Output\",\n",
    "          weights=list(array(0,dim=c(tau2,1)), array(log(y0),dim=c(1)))) \n",
    "    model <- keras_model(inputs = list(Input), outputs = c(Output))\n",
    "    model %>% compile(loss = 'mean_squared_error', optimizer = optimizer)\n",
    "     }\n",
    "     \n",
    "# triple hidden GRU layers\n",
    "GRU3 <- function(T0, tau0, tau1, tau2, tau3, y0=0, optimizer){\n",
    "    Input <- layer_input(shape=c(T0,tau0), dtype='float32', name='Input') \n",
    "    Output = Input %>%  \n",
    "       layer_gru(units=tau1, activation='tanh', recurrent_activation='tanh', \n",
    "                  return_sequences=TRUE, name='GRU1') %>%\n",
    "       layer_gru(units=tau2, activation='tanh', recurrent_activation='tanh', \n",
    "                  return_sequences=TRUE, name='GRU2') %>%           \n",
    "       layer_gru(units=tau3, activation='tanh', recurrent_activation='tanh', name='GRU3') %>%           \n",
    "       layer_dense(units=1, activation=k_exp, name=\"Output\",\n",
    "          weights=list(array(0,dim=c(tau3,1)), array(log(y0),dim=c(1)))) \n",
    "    model <- keras_model(inputs = list(Input), outputs = c(Output))\n",
    "    model %>% compile(loss = 'mean_squared_error', optimizer = optimizer)\n",
    "     }\n",
    "\n",
    "# triple hidden LSTM layers both genders\n",
    "LSTM3.Gender <- function(T0, tau0, tau1, tau2, tau3, y0=0, optimizer){\n",
    "    Input <- layer_input(shape=c(T0,tau0), dtype='float32', name='Input') \n",
    "    Gender <- layer_input(shape=c(1), dtype='float32', name='Gender') \n",
    "    RNN = Input %>%  \n",
    "       layer_lstm(units=tau1, activation='tanh', recurrent_activation='tanh', \n",
    "                  return_sequences=TRUE, name='LSTM1') %>%\n",
    "       layer_lstm(units=tau2, activation='tanh', recurrent_activation='tanh', \n",
    "                  return_sequences=TRUE, name='LSTM2') %>%           \n",
    "       layer_lstm(units=tau3, activation='tanh', recurrent_activation='tanh', name='LSTM3')  \n",
    "       Output = list(RNN, Gender) %>% layer_concatenate(name=\"Concat\")%>%                    \n",
    "       layer_dense(units=1, activation=k_exp, name=\"Output\",\n",
    "                   weights=list(array(0,dim=c(tau3+1,1)), array(log(y0),dim=c(1))))  \n",
    "    model <- keras_model(inputs = list(Input, Gender), outputs = c(Output))\n",
    "    model %>% compile(loss = 'mean_squared_error', optimizer = optimizer)\n",
    "     }\n",
    "\n",
    "\n",
    "# triple hidden GRU layers both gender\n",
    "GRU3.Gender <- function(T0, tau0, tau1, tau2, tau3, y0=0, optimizer){\n",
    "    Input <- layer_input(shape=c(T0,tau0), dtype='float32', name='Input') \n",
    "    Gender <- layer_input(shape=c(1), dtype='float32', name='Gender') \n",
    "    RNN = Input %>%  \n",
    "       layer_gru(units=tau1, activation='tanh', recurrent_activation='tanh', \n",
    "                  return_sequences=TRUE, name='GRU1') %>%\n",
    "       layer_gru(units=tau2, activation='tanh', recurrent_activation='tanh', \n",
    "                  return_sequences=TRUE, name='GRU2') %>%           \n",
    "       layer_gru(units=tau3, activation='tanh', recurrent_activation='tanh', name='GRU3') \n",
    "    Output = list(RNN, Gender) %>% layer_concatenate(name=\"Concat\")%>%           \n",
    "       layer_dense(units=1, activation=k_exp, name=\"Output\",\n",
    "          weights=list(array(0,dim=c(tau3+1,1)), array(log(y0),dim=c(1)))) \n",
    "    model <- keras_model(inputs = list(Input, Gender), outputs = c(Output))\n",
    "    model %>% compile(loss = 'mean_squared_error', optimizer = optimizer)\n",
    "     }\n",
    "\n",
    "\n",
    "# double hidden FNN layers\n",
    "FNN <- function(T0, tau0, tau1, tau2, y0=0, optimizer){\n",
    "    Input <- layer_input(shape=c(T0,tau0), dtype='float32', name='Input')\n",
    "    Output = Input %>% layer_reshape(target_shape=c(T0*tau0), name='Reshape') %>%\n",
    "       layer_dense(units=tau1, activation='tanh', name='Layer1') %>%\n",
    "       layer_dense(units=tau2, activation='tanh', name='Layer2') %>%           \n",
    "       layer_dense(units=1, activation=k_exp, name=\"Output\",\n",
    "                   weights=list(array(0,dim=c(tau2,1)), array(log(y0),dim=c(1)))) \n",
    "    model <- keras_model(inputs = list(Input), outputs = c(Output))\n",
    "    model %>% compile(loss = 'mean_squared_error', optimizer = optimizer)\n",
    "     }"
   ]
  },
  {
   "cell_type": "markdown",
   "metadata": {},
   "source": [
    "### 5. Prepare data for RNNs <a class=\"anchor\" id=\"chapter5\"></a>"
   ]
  },
  {
   "cell_type": "code",
   "execution_count": 6,
   "metadata": {},
   "outputs": [],
   "source": [
    "##################################################################\n",
    "### prepare data for Recurrent Neural Networks \n",
    "##################################################################\n",
    "\n",
    "data.preprocessing.RNNs <- function(data.raw, gender, T0, tau0, ObsYear=1999){    \n",
    "    mort_rates <- data.raw[which(data.raw$Gender==gender), c(\"Year\", \"Age\", \"logmx\")] \n",
    "    mort_rates <- dcast(mort_rates, Year ~ Age, value.var=\"logmx\")\n",
    "    # selecting data\n",
    "    train.rates <- as.matrix(mort_rates[which(mort_rates$Year <= ObsYear),])\n",
    "    # adding padding at the border\n",
    "    (delta0 <- (tau0-1)/2)\n",
    "    if (delta0>0){for (i in 1:delta0){\n",
    "         train.rates <- as.matrix(cbind(train.rates[,1], train.rates[,2], train.rates[,-1], train.rates[,ncol(train.rates)]))\n",
    "       }}\n",
    "   train.rates <- train.rates[,-1]\n",
    "   (t1 <- nrow(train.rates)-(T0-1)-1)\n",
    "   (a1 <- ncol(train.rates)-(tau0-1)) \n",
    "   (n.train <- t1 * a1) # number of training samples\n",
    "   xt.train <- array(NA, c(n.train, T0, tau0))\n",
    "   YT.train <- array(NA, c(n.train))\n",
    "   for (t0 in (1:t1)){\n",
    "     for (a0 in (1:a1)){\n",
    "           xt.train[(t0-1)*a1+a0,,] <- train.rates[t0:(t0+T0-1), a0:(a0+tau0-1)]\n",
    "           YT.train[(t0-1)*a1+a0] <-   train.rates[t0+T0, a0+delta0]\n",
    "      }}\n",
    "   list(xt.train, YT.train)\n",
    "      }\n",
    "      \n",
    "      \n",
    "##################################################################\n",
    "### recursive prediction\n",
    "##################################################################\n",
    "      \n",
    "recursive.prediction <- function(ObsYear, all_mort2, gender, T0, tau0, x.min, x.max, model.p){       \n",
    "   single.years <- array(NA, c(2016-ObsYear))\n",
    "\n",
    "   for (ObsYear1 in ((ObsYear+1):2016)){\n",
    "     data2 <- data.preprocessing.RNNs(all_mort2[which(all_mort2$Year >= (ObsYear1-10)),], gender, T0, tau0, ObsYear1)\n",
    "     # MinMaxScaler (with minimum and maximum from above)\n",
    "     x.vali <- array(2*(data2[[1]]-x.min)/(x.min-x.max)-1, dim(data2[[1]]))\n",
    "     y.vali <- -data2[[2]]\n",
    "     Yhat.vali2 <- exp(-as.vector(model.p %>% predict(x.vali)))\n",
    "     single.years[ObsYear1-ObsYear] <- round(10^4*mean((Yhat.vali2-exp(-y.vali))^2),4)\n",
    "     predicted <- all_mort2[which(all_mort2$Year==ObsYear1),]\n",
    "     keep <- all_mort2[which(all_mort2$Year!=ObsYear1),]\n",
    "     predicted$logmx <- -as.vector(model %>% predict(x.vali))\n",
    "     predicted$mx <- exp(predicted$logmx)\n",
    "     all_mort2 <- rbind(keep,predicted)\n",
    "     all_mort2 <- all_mort2[order(Gender, Year, Age),]\n",
    "                       }\n",
    "     list(all_mort2, single.years)\n",
    "     }                  \n",
    "\n",
    "\n",
    "recursive.prediction.Gender <- function(ObsYear, all_mort2, gender, T0, tau0, x.min, x.max, model.p){       \n",
    "   single.years <- array(NA, c(2016-ObsYear))\n",
    "\n",
    "   for (ObsYear1 in ((ObsYear+1):2016)){\n",
    "     data2 <- data.preprocessing.RNNs(all_mort2[which(all_mort2$Year >= (ObsYear1-10)),], gender, T0, tau0, ObsYear1)\n",
    "     # MinMaxScaler (with minimum and maximum from above)\n",
    "     x.vali <- array(2*(data2[[1]]-x.min)/(x.min-x.max)-1, dim(data2[[1]]))\n",
    "     if (gender==\"Female\"){yy <- 0}else{yy <- 1}\n",
    "     x.vali <- list(x.vali, rep(yy, dim(x.vali)[1]))\n",
    "     y.vali <- -data2[[2]]\n",
    "     Yhat.vali2 <- exp(-as.vector(model.p %>% predict(x.vali)))\n",
    "     single.years[ObsYear1-ObsYear] <- round(10^4*mean((Yhat.vali2-exp(-y.vali))^2),4)\n",
    "     predicted <- all_mort2[which(all_mort2$Year==ObsYear1),]\n",
    "     keep <- all_mort2[which(all_mort2$Year!=ObsYear1),]\n",
    "     predicted$logmx <- -as.vector(model %>% predict(x.vali))\n",
    "     predicted$mx <- exp(predicted$logmx)\n",
    "     all_mort2 <- rbind(keep,predicted)\n",
    "     all_mort2 <- all_mort2[order(Gender, Year, Age),]\n",
    "                       }\n",
    "     list(all_mort2, single.years)\n",
    "     }                  \n",
    "\n",
    "##################################################################\n",
    "### plotting functions\n",
    "##################################################################\n",
    "\n",
    "plot.losses <- function(name.model, gender, val_loss, loss){\n",
    "     plot(val_loss,col=\"cyan3\", pch=20, ylim=c(0,0.1), main=list(paste(\"early stopping: \",name.model,\", \", gender, sep=\"\"), cex=1.2),xlab=\"epochs\", ylab=\"MSE loss\", cex=1.2, cex.lab=1.2)\n",
    "     lines(loss,col=\"blue\")\n",
    "     abline(h=0.05, lty=1, col=\"black\")\n",
    "     legend(x=\"bottomleft\", col=c(\"blue\",\"cyan3\"), lty=c(1,-1), lwd=c(1,-1), pch=c(-1,20), legend=c(\"in-sample loss\", \"out-of-sample loss\"))\n",
    "   }   "
   ]
  },
  {
   "cell_type": "markdown",
   "metadata": {},
   "source": [
    "### 6. Toy Examples Recurrent Neural Nets <a class=\"anchor\" id=\"chapter6\"></a>"
   ]
  },
  {
   "cell_type": "code",
   "execution_count": 7,
   "metadata": {},
   "outputs": [],
   "source": [
    "options(repr.plot.width=5, repr.plot.height=5)"
   ]
  },
  {
   "cell_type": "code",
   "execution_count": 8,
   "metadata": {
    "scrolled": true
   },
   "outputs": [
    {
     "name": "stdout",
     "output_type": "stream",
     "text": [
      "Model: \"model\"\n",
      "________________________________________________________________________________\n",
      "Layer (type)                        Output Shape                    Param #     \n",
      "================================================================================\n",
      "Input (InputLayer)                  [(None, 10, 3)]                 0           \n",
      "________________________________________________________________________________\n",
      "LSTM1 (LSTM)                        (None, 5)                       180         \n",
      "________________________________________________________________________________\n",
      "Output (Dense)                      (None, 1)                       6           \n",
      "================================================================================\n",
      "Total params: 186\n",
      "Trainable params: 186\n",
      "Non-trainable params: 0\n",
      "________________________________________________________________________________\n",
      "Model: \"model_1\"\n",
      "________________________________________________________________________________\n",
      "Layer (type)                        Output Shape                    Param #     \n",
      "================================================================================\n",
      "Input (InputLayer)                  [(None, 10, 3)]                 0           \n",
      "________________________________________________________________________________\n",
      "LSTM1 (LSTM)                        (None, 10, 5)                   180         \n",
      "________________________________________________________________________________\n",
      "LSTM2 (LSTM)                        (None, 4)                       160         \n",
      "________________________________________________________________________________\n",
      "Output (Dense)                      (None, 1)                       5           \n",
      "================================================================================\n",
      "Total params: 345\n",
      "Trainable params: 345\n",
      "Non-trainable params: 0\n",
      "________________________________________________________________________________\n",
      "Model: \"model_2\"\n",
      "________________________________________________________________________________\n",
      "Layer (type)                        Output Shape                    Param #     \n",
      "================================================================================\n",
      "Input (InputLayer)                  [(None, 10, 3)]                 0           \n",
      "________________________________________________________________________________\n",
      "LSTM1 (LSTM)                        (None, 10, 5)                   180         \n",
      "________________________________________________________________________________\n",
      "TD (TimeDistributed)                (None, 10, 1)                   6           \n",
      "================================================================================\n",
      "Total params: 186\n",
      "Trainable params: 186\n",
      "Non-trainable params: 0\n",
      "________________________________________________________________________________\n",
      "Model: \"model_3\"\n",
      "________________________________________________________________________________\n",
      "Layer (type)                        Output Shape                    Param #     \n",
      "================================================================================\n",
      "Input (InputLayer)                  [(None, 10, 3)]                 0           \n",
      "________________________________________________________________________________\n",
      "GRU1 (GRU)                          (None, 5)                       135         \n",
      "________________________________________________________________________________\n",
      "Output (Dense)                      (None, 1)                       6           \n",
      "================================================================================\n",
      "Total params: 141\n",
      "Trainable params: 141\n",
      "Non-trainable params: 0\n",
      "________________________________________________________________________________\n",
      "Model: \"model_4\"\n",
      "________________________________________________________________________________\n",
      "Layer (type)                        Output Shape                    Param #     \n",
      "================================================================================\n",
      "Input (InputLayer)                  [(None, 10, 3)]                 0           \n",
      "________________________________________________________________________________\n",
      "GRU1 (GRU)                          (None, 10, 5)                   135         \n",
      "________________________________________________________________________________\n",
      "GRU2 (GRU)                          (None, 4)                       120         \n",
      "________________________________________________________________________________\n",
      "Output (Dense)                      (None, 1)                       5           \n",
      "================================================================================\n",
      "Total params: 260\n",
      "Trainable params: 260\n",
      "Non-trainable params: 0\n",
      "________________________________________________________________________________\n",
      "Model: \"model_5\"\n",
      "________________________________________________________________________________\n",
      "Layer (type)                        Output Shape                    Param #     \n",
      "================================================================================\n",
      "Input (InputLayer)                  [(None, 10, 3)]                 0           \n",
      "________________________________________________________________________________\n",
      "Reshape (Reshape)                   (None, 30)                      0           \n",
      "________________________________________________________________________________\n",
      "Layer1 (Dense)                      (None, 5)                       155         \n",
      "________________________________________________________________________________\n",
      "Layer2 (Dense)                      (None, 4)                       24          \n",
      "________________________________________________________________________________\n",
      "Output (Dense)                      (None, 1)                       5           \n",
      "================================================================================\n",
      "Total params: 184\n",
      "Trainable params: 184\n",
      "Non-trainable params: 0\n",
      "________________________________________________________________________________\n"
     ]
    },
    {
     "data": {
      "text/html": [
       "5.89378566150809"
      ],
      "text/latex": [
       "5.89378566150809"
      ],
      "text/markdown": [
       "5.89378566150809"
      ],
      "text/plain": [
       "[1] 5.893786"
      ]
     },
     "metadata": {},
     "output_type": "display_data"
    },
    {
     "name": "stdout",
     "output_type": "stream",
     "text": [
      "Model: \"model_6\"\n",
      "________________________________________________________________________________\n",
      "Layer (type)                        Output Shape                    Param #     \n",
      "================================================================================\n",
      "Input (InputLayer)                  [(None, 10, 3)]                 0           \n",
      "________________________________________________________________________________\n",
      "LSTM1 (LSTM)                        (None, 10, 5)                   180         \n",
      "________________________________________________________________________________\n",
      "LSTM2 (LSTM)                        (None, 4)                       160         \n",
      "________________________________________________________________________________\n",
      "Output (Dense)                      (None, 1)                       5           \n",
      "================================================================================\n",
      "Total params: 345\n",
      "Trainable params: 345\n",
      "Non-trainable params: 0\n",
      "________________________________________________________________________________\n"
     ]
    },
    {
     "data": {
      "text/plain": [
       "   user  system elapsed \n",
       " 121.88    6.68   75.49 "
      ]
     },
     "metadata": {},
     "output_type": "display_data"
    },
    {
     "data": {
      "image/png": "[encoded data removed]"
     },
     "metadata": {},
     "output_type": "display_data"
    },
    {
     "data": {
      "text/html": [
       "<ol class=list-inline>\n",
       "\t<li>0.0577</li>\n",
       "\t<li>0.0886</li>\n",
       "</ol>\n"
      ],
      "text/latex": [
       "\\begin{enumerate*}\n",
       "\\item 0.0577\n",
       "\\item 0.0886\n",
       "\\end{enumerate*}\n"
      ],
      "text/markdown": [
       "1. 0.0577\n",
       "2. 0.0886\n",
       "\n",
       "\n"
      ],
      "text/plain": [
       "[1] 0.0577 0.0886"
      ]
     },
     "metadata": {},
     "output_type": "display_data"
    },
    {
     "data": {
      "image/png": "[encoded data removed]"
     },
     "metadata": {},
     "output_type": "display_data"
    }
   ],
   "source": [
    "##################################################################\n",
    "### LSTMs and GRUs\n",
    "##################################################################\n",
    "\n",
    "T0 <- 10\n",
    "tau0 <- 3\n",
    "tau1 <- 5\n",
    "tau2 <- 4\n",
    "\n",
    "summary(LSTM1(T0, tau0, tau1, 0, \"nadam\"))\n",
    "summary(LSTM2(T0, tau0, tau1, tau2, 0, \"nadam\"))\n",
    "summary(LSTM_TD(T0, tau0, tau1, 0, \"nadam\"))\n",
    "summary(GRU1(T0, tau0, tau1, 0, \"nadam\"))\n",
    "summary(GRU2(T0, tau0, tau1, tau2, 0, \"nadam\"))\n",
    "summary(FNN(T0, tau0, tau1, tau2, 0, \"nadam\"))\n",
    "\n",
    "##################################################################\n",
    "### Bringing the data in the right structure for a toy example\n",
    "##################################################################\n",
    "\n",
    "gender <- \"Female\"\n",
    "ObsYear <- 2000\n",
    "\n",
    "mort_rates <- all_mort[which(all_mort$Gender==gender), c(\"Year\", \"Age\", \"logmx\")] \n",
    "mort_rates <- dcast(mort_rates, Year ~ Age, value.var=\"logmx\")\n",
    "\n",
    "\n",
    "T0 <- 10     # lookback period\n",
    "tau0 <- 3    # dimension of x_t (should be odd for our application)\n",
    "delta0 <- (tau0-1)/2\n",
    "\n",
    "toy_rates <- as.matrix(mort_rates[which(mort_rates$Year %in% c((ObsYear-T0):(ObsYear+1))),])\n",
    "\n",
    "xt <- array(NA, c(2,ncol(toy_rates)-tau0, T0, tau0))\n",
    "YT <- array(NA, c(2,ncol(toy_rates)-tau0))\n",
    "\n",
    "for (i in 1:2){for (a0 in 1:(ncol(toy_rates)-tau0)){ \n",
    "    xt[i,a0,,] <- toy_rates[c(i:(T0+i-1)),c((a0+1):(a0+tau0))]\n",
    "    YT[i,a0] <- toy_rates[T0+i,a0+1+delta0]\n",
    "      }}\n",
    "\n",
    "plot(x=toy_rates[1:T0,1], y=toy_rates[1:T0,2], col=\"white\", xlab=\"calendar years\", ylab=\"raw log-mortality rates\", cex.lab=1.2, cex=1.2, main=list(\"data toy example\", cex=1.2), xlim=range(toy_rates[,1]), ylim=range(toy_rates[,-1]), type='l')\n",
    "for (a0 in 2:ncol(toy_rates)){\n",
    "  if (a0 %in% (c(1:100)*3)){\n",
    "    lines(x=toy_rates[1:T0,1], y=toy_rates[1:T0,a0])    \n",
    "    points(x=toy_rates[(T0+1):(T0+2),1], y=toy_rates[(T0+1):(T0+2),a0], col=c(\"blue\", \"red\"), pch=20)\n",
    "    lines(x=toy_rates[(T0):(T0+1),1], y=toy_rates[(T0):(T0+1),a0], col=\"blue\", lty=2)\n",
    "    lines(x=toy_rates[(T0+1):(T0+2),1], y=toy_rates[(T0+1):(T0+2),a0], col=\"red\", lty=2)\n",
    "    }}\n",
    "    \n",
    "    \n",
    "##################################################################\n",
    "### LSTMs and GRUs\n",
    "##################################################################\n",
    "\n",
    "x.train <- array(2*(xt[1,,,]-min(xt))/(max(xt)-min(xt))-1, c(ncol(toy_rates)-tau0, T0, tau0))\n",
    "x.vali  <- array(2*(xt[2,,,]-min(xt))/(max(xt)-min(xt))-1, c(ncol(toy_rates)-tau0, T0, tau0))\n",
    "y.train <- - YT[1,]\n",
    "(y0 <- mean(y.train))\n",
    "y.vali  <- - YT[2,]\n",
    "\n",
    "### examples\n",
    "\n",
    "tau1 <- 5    # dimension of the outputs z_t^(1) first RNN layer\n",
    "tau2 <- 4    # dimension of the outputs z_t^(2) second RNN layer\n",
    "\n",
    "CBs <- callback_model_checkpoint(\"./CallBack/best_model\", monitor = \"val_loss\", verbose = 0,  save_best_only = TRUE, save_weights_only = TRUE)\n",
    "model <- LSTM2(T0, tau0, tau1, tau2, y0, \"nadam\")\n",
    "summary(model)\n",
    "\n",
    "# takes 40 seconds on my laptop\n",
    "{t1 <- proc.time()\n",
    "  fit <- model %>% fit(x=x.train, y=y.train, validation_data=list(x.vali, y.vali),\n",
    "                                  batch_size=10, epochs=500, verbose=0, callbacks=CBs)\n",
    " proc.time()-t1}\n",
    "\n",
    "plot(fit[[2]]$val_loss,col=\"red\", ylim=c(0,0.2), main=list(\"early stopping rule\", cex=1.2),xlab=\"epochs\", ylab=\"MSE loss\", cex=1.2, cex.lab=1.2)\n",
    "lines(fit[[2]]$loss,col=\"blue\")\n",
    "abline(h=0.1, lty=1, col=\"black\")\n",
    "legend(x=\"bottomleft\", col=c(\"blue\",\"red\"), lty=c(1,-1), lwd=c(1,-1), pch=c(-1,1), legend=c(\"in-sample loss\", \"out-of-sample loss\"))\n",
    "\n",
    "\n",
    "\n",
    "load_model_weights_hdf5(model, \"./CallBack/best_model\")\n",
    "Yhat.train1 <- as.vector(model %>% predict(x.train))\n",
    "Yhat.vali1 <- as.vector(model %>% predict(x.vali))\n",
    "c(round(mean((Yhat.train1-y.train)^2),4), round(mean((Yhat.vali1-y.vali)^2),4))"
   ]
  },
  {
   "cell_type": "markdown",
   "metadata": {},
   "source": [
    "### 7. Fit recurrent neural network to HMD data for female and male individually <a class=\"anchor\" id=\"chapter7\"></a>"
   ]
  },
  {
   "cell_type": "code",
   "execution_count": 9,
   "metadata": {
    "scrolled": true
   },
   "outputs": [
    {
     "name": "stdout",
     "output_type": "stream",
     "text": [
      "Model: \"model_7\"\n",
      "________________________________________________________________________________\n",
      "Layer (type)                        Output Shape                    Param #     \n",
      "================================================================================\n",
      "Input (InputLayer)                  [(None, 10, 5)]                 0           \n",
      "________________________________________________________________________________\n",
      "LSTM1 (LSTM)                        (None, 10, 20)                  2080        \n",
      "________________________________________________________________________________\n",
      "LSTM2 (LSTM)                        (None, 10, 15)                  2160        \n",
      "________________________________________________________________________________\n",
      "LSTM3 (LSTM)                        (None, 10)                      1040        \n",
      "________________________________________________________________________________\n",
      "Output (Dense)                      (None, 1)                       11          \n",
      "================================================================================\n",
      "Total params: 5,291\n",
      "Trainable params: 5,291\n",
      "Non-trainable params: 0\n",
      "________________________________________________________________________________\n"
     ]
    },
    {
     "data": {
      "text/plain": [
       "   user  system elapsed \n",
       " 438.55   22.21  164.31 "
      ]
     },
     "metadata": {},
     "output_type": "display_data"
    },
    {
     "data": {
      "text/html": [
       "2.4631"
      ],
      "text/latex": [
       "2.4631"
      ],
      "text/markdown": [
       "2.4631"
      ],
      "text/plain": [
       "[1] 2.4631"
      ]
     },
     "metadata": {},
     "output_type": "display_data"
    },
    {
     "data": {
      "text/html": [
       "0.3647"
      ],
      "text/latex": [
       "0.3647"
      ],
      "text/markdown": [
       "0.3647"
      ],
      "text/plain": [
       "[1] 0.3647"
      ]
     },
     "metadata": {},
     "output_type": "display_data"
    },
    {
     "data": {
      "image/png": "[encoded data removed]"
     },
     "metadata": {},
     "output_type": "display_data"
    }
   ],
   "source": [
    "##################################################################\n",
    "### Setting the parameters and load data\n",
    "##################################################################\n",
    "\n",
    "# choice of parameters\n",
    "T0 <- 10\n",
    "tau0 <- 5\n",
    "gender <- \"Female\"\n",
    "ObsYear <- 1999\n",
    "\n",
    "# training data pre-processing \n",
    "data1 <- data.preprocessing.RNNs(all_mort, gender, T0, tau0, ObsYear)\n",
    "\n",
    "# validation data pre-processing\n",
    "all_mort2 <- all_mort[which((all_mort$Year > (ObsYear-10))&(Gender==gender)),]\n",
    "all_mortV <- all_mort2\n",
    "vali.Y <- all_mortV[which(all_mortV$Year > ObsYear),]\n",
    " \n",
    "# MinMaxScaler data pre-processing\n",
    "x.min <- min(data1[[1]])\n",
    "x.max <- max(data1[[1]])\n",
    "x.train <- array(2*(data1[[1]]-x.min)/(x.min-x.max)-1, dim(data1[[1]]))\n",
    "y.train <- - data1[[2]]\n",
    "y0 <- mean(y.train)\n",
    "\n",
    "##################################################################\n",
    "### LSTM architectures\n",
    "##################################################################\n",
    "\n",
    "# network architecture deep 3 network\n",
    "tau1 <- 20\n",
    "tau2 <- 15\n",
    "tau3 <- 10\n",
    "optimizer <- 'adam'\n",
    "\n",
    "# choose either LSTM or GRU network\n",
    "RNN.type <- \"LSTM\"\n",
    "#RNN.type <- \"GRU\"\n",
    "\n",
    "{if (RNN.type==\"LSTM\"){model <- LSTM3(T0, tau0, tau1, tau2, tau3, y0, optimizer)}else{model <- GRU3(T0, tau0, tau1, tau2, tau3, y0, optimizer)}\n",
    " name.model <- paste(RNN.type,\"3_\", tau0, \"_\", tau1, \"_\", tau2, \"_\", tau3, sep=\"\")\n",
    " file.name <- paste(\"./CallBack/best_model_\", name.model,\"_\", gender, sep=\"\")\n",
    " summary(model)}\n",
    "\n",
    "# define callback\n",
    "CBs <- callback_model_checkpoint(file.name, monitor = \"val_loss\", verbose = 0,  save_best_only = TRUE, save_weights_only = TRUE)\n",
    "\n",
    "# gradient descent fitting: takes roughly 200 seconds on my laptop\n",
    "{t1 <- proc.time()\n",
    "  fit <- model %>% fit(x=x.train, y=y.train, validation_split=0.2,\n",
    "                                        batch_size=100, epochs=500, verbose=0, callbacks=CBs)                                        \n",
    "proc.time()-t1}\n",
    "\n",
    "# plot loss figures\n",
    "plot.losses(name.model, gender, fit[[2]]$val_loss, fit[[2]]$loss)\n",
    "\n",
    "# calculating in-sample loss: LC is c(Female=3.7573, Male=8.8110)\n",
    "load_model_weights_hdf5(model, file.name)\n",
    "round(10^4*mean((exp(-as.vector(model %>% predict(x.train)))-exp(-y.train))^2),4)\n",
    "\n",
    "# calculating out-of-sample loss: LC is c(Female=0.6045, Male=1.8152)\n",
    "pred.result <- recursive.prediction(ObsYear, all_mort2, gender, T0, tau0, x.min, x.max, model)\n",
    "vali <- pred.result[[1]][which(all_mort2$Year > ObsYear),]\n",
    "round(10^4*mean((vali$mx-vali.Y$mx)^2),4)\n",
    "\n"
   ]
  },
  {
   "cell_type": "markdown",
   "metadata": {},
   "source": [
    "### 8. Fit recurrent neural network to HMD data for both genders <a class=\"anchor\" id=\"chapter8\"></a>"
   ]
  },
  {
   "cell_type": "code",
   "execution_count": 10,
   "metadata": {
    "scrolled": true
   },
   "outputs": [
    {
     "name": "stdout",
     "output_type": "stream",
     "text": [
      "Model: \"model_8\"\n",
      "________________________________________________________________________________\n",
      "Layer (type)              Output Shape      Param #  Connected to               \n",
      "================================================================================\n",
      "Input (InputLayer)        [(None, 10, 5)]   0                                   \n",
      "________________________________________________________________________________\n",
      "LSTM1 (LSTM)              (None, 10, 20)    2080     Input[0][0]                \n",
      "________________________________________________________________________________\n",
      "LSTM2 (LSTM)              (None, 10, 15)    2160     LSTM1[0][0]                \n",
      "________________________________________________________________________________\n",
      "LSTM3 (LSTM)              (None, 10)        1040     LSTM2[0][0]                \n",
      "________________________________________________________________________________\n",
      "Gender (InputLayer)       [(None, 1)]       0                                   \n",
      "________________________________________________________________________________\n",
      "Concat (Concatenate)      (None, 11)        0        LSTM3[0][0]                \n",
      "                                                     Gender[0][0]               \n",
      "________________________________________________________________________________\n",
      "Output (Dense)            (None, 1)         12       Concat[0][0]               \n",
      "================================================================================\n",
      "Total params: 5,292\n",
      "Trainable params: 5,292\n",
      "Non-trainable params: 0\n",
      "________________________________________________________________________________\n"
     ]
    },
    {
     "data": {
      "text/plain": [
       "   user  system elapsed \n",
       " 870.88   41.03  314.54 "
      ]
     },
     "metadata": {},
     "output_type": "display_data"
    },
    {
     "data": {
      "text/html": [
       "4.7463"
      ],
      "text/latex": [
       "4.7463"
      ],
      "text/markdown": [
       "4.7463"
      ],
      "text/plain": [
       "[1] 4.7463"
      ]
     },
     "metadata": {},
     "output_type": "display_data"
    },
    {
     "data": {
      "text/html": [
       "0.2751"
      ],
      "text/latex": [
       "0.2751"
      ],
      "text/markdown": [
       "0.2751"
      ],
      "text/plain": [
       "[1] 0.2751"
      ]
     },
     "metadata": {},
     "output_type": "display_data"
    },
    {
     "data": {
      "text/html": [
       "1.6267"
      ],
      "text/latex": [
       "1.6267"
      ],
      "text/markdown": [
       "1.6267"
      ],
      "text/plain": [
       "[1] 1.6267"
      ]
     },
     "metadata": {},
     "output_type": "display_data"
    },
    {
     "data": {
      "image/png": "[encoded data removed]"
     },
     "metadata": {},
     "output_type": "display_data"
    }
   ],
   "source": [
    "##################################################################\n",
    "### Setting the parameters and load data\n",
    "##################################################################\n",
    "\n",
    "# choice of parameters\n",
    "T0 <- 10\n",
    "tau0 <- 5\n",
    "ObsYear <- 1999\n",
    "\n",
    "# training data pre-processing \n",
    "data1 <- data.preprocessing.RNNs(all_mort, \"Female\", T0, tau0, ObsYear)\n",
    "data2 <- data.preprocessing.RNNs(all_mort, \"Male\", T0, tau0, ObsYear)\n",
    "\n",
    "xx <- dim(data1[[1]])[1]\n",
    "x.train <- array(NA, dim=c(2*xx, dim(data1[[1]])[c(2,3)]))\n",
    "y.train <- array(NA, dim=c(2*xx))\n",
    "gender.indicator <- rep(c(0,1), xx)\n",
    "for (l in 1:xx){\n",
    "   x.train[(l-1)*2+1,,] <- data1[[1]][l,,]\n",
    "   x.train[(l-1)*2+2,,] <- data2[[1]][l,,]\n",
    "   y.train[(l-1)*2+1] <- -data1[[2]][l]\n",
    "   y.train[(l-1)*2+2] <- -data2[[2]][l]\n",
    "          }\n",
    "# MinMaxScaler data pre-processing\n",
    "x.min <- min(x.train)\n",
    "x.max <- max(x.train)\n",
    "x.train <- list(array(2*(x.train-x.min)/(x.min-x.max)-1, dim(x.train)), gender.indicator)\n",
    "y0 <- mean(y.train)\n",
    "\n",
    "\n",
    "\n",
    "# validation data pre-processing\n",
    "all_mort2.Female <- all_mort[which((all_mort$Year > (ObsYear-10))&(Gender==\"Female\")),]\n",
    "all_mortV.Female <- all_mort2.Female\n",
    "vali.Y.Female <- all_mortV.Female[which(all_mortV.Female$Year > ObsYear),]\n",
    "all_mort2.Male <- all_mort[which((all_mort$Year > (ObsYear-10))&(Gender==\"Male\")),]\n",
    "all_mortV.Male <- all_mort2.Male\n",
    "vali.Y.Male <- all_mortV.Male[which(all_mortV.Male$Year > ObsYear),]\n",
    "\n",
    "\n",
    "##################################################################\n",
    "### LSTM architectures\n",
    "##################################################################\n",
    "\n",
    "# network architecture deep 3 network\n",
    "tau1 <- 20\n",
    "tau2 <- 15\n",
    "tau3 <- 10\n",
    "optimizer <- 'adam'\n",
    "\n",
    "# choose either LSTM or GRU network\n",
    "RNN.type <- \"LSTM\"\n",
    "#RNN.type <- \"GRU\"\n",
    "\n",
    "{if (RNN.type==\"LSTM\"){model <- LSTM3.Gender(T0, tau0, tau1, tau2, tau3, y0, optimizer)}else{model <- GRU3.Gender(T0, tau0, tau1, tau2, tau3, y0, optimizer)}\n",
    " name.model <- paste(RNN.type,\"3_\", tau0, \"_\", tau1, \"_\", tau2, \"_\", tau3, sep=\"\")\n",
    " #file.name <- paste(\"./Model_Full_Param/best_model_\", name.model, sep=\"\")\n",
    " file.name <- paste(\"./CallBack/best_model_\", name.model, sep=\"\")\n",
    " summary(model)}\n",
    "\n",
    "# define callback\n",
    "CBs <- callback_model_checkpoint(file.name, monitor = \"val_loss\", verbose = 0,  save_best_only = TRUE, save_weights_only = TRUE)\n",
    "\n",
    "# gradient descent fitting: takes roughly 400 seconds on my laptop\n",
    "{t1 <- proc.time()\n",
    "  fit <- model %>% fit(x=x.train, y=y.train, validation_split=0.2,\n",
    "                                        batch_size=100, epochs=500, verbose=0, callbacks=CBs)                                        \n",
    "proc.time()-t1}\n",
    "\n",
    "# plot loss figures\n",
    "plot.losses(name.model, \"Both\", fit[[2]]$val_loss, fit[[2]]$loss)\n",
    "\n",
    "# calculating in-sample loss: LC is c(Female=3.7573, Male=8.8110)\n",
    "load_model_weights_hdf5(model, file.name)\n",
    "round(10^4*mean((exp(-as.vector(model %>% predict(x.train)))-exp(-y.train))^2),4)\n",
    "\n",
    "# calculating out-of-sample loss: LC is c(Female=0.6045, Male=1.8152)\n",
    "# Female\n",
    "pred.result <- recursive.prediction.Gender(ObsYear, all_mort2.Female, \"Female\", T0, tau0, x.min, x.max, model)\n",
    "vali <- pred.result[[1]][which(all_mort2.Female$Year > ObsYear),]\n",
    "round(10^4*mean((vali$mx-vali.Y.Female$mx)^2),4)\n",
    "# Male\n",
    "pred.result <- recursive.prediction.Gender(ObsYear, all_mort2.Male, \"Male\", T0, tau0, x.min, x.max, model)\n",
    "vali <- pred.result[[1]][which(all_mort2.Male$Year > ObsYear),]\n",
    "round(10^4*mean((vali$mx-vali.Y.Male$mx)^2),4)"
   ]
  }
 ],
 "metadata": {
  "kernelspec": {
   "display_name": "R",
   "language": "R",
   "name": "ir"
  },
  "language_info": {
   "codemirror_mode": "r",
   "file_extension": ".r",
   "mimetype": "text/x-r-source",
   "name": "R",
   "pygments_lexer": "r",
   "version": "3.6.1"
  }
 },
 "nbformat": 4,
 "nbformat_minor": 4
}
